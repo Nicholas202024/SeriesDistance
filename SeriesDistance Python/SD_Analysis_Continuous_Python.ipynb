{
 "cells": [
  {
   "cell_type": "code",
   "execution_count": 1,
   "metadata": {},
   "outputs": [],
   "source": [
    "# import packages\n",
    "import numpy as np\n",
    "import matplotlib.pyplot as plt\n",
    "import os\n",
    "from scipy.io import savemat # for saving data to .mat file\n",
    "import sys"
   ]
  },
  {
   "cell_type": "code",
   "execution_count": 2,
   "metadata": {},
   "outputs": [],
   "source": [
    "# path to functions\n",
    "sys.path.append(r\"/home/illich/SeriesDistance/SeriesDistance Python/functions_Python/\")\n",
    "\n",
    "# import functions\n",
    "from f_smooth_DP import f_smooth_DP\n",
    "from f_ReplaceEqualNeighbours import f_ReplaceEqualNeighbours\n",
    "from f_FindSplitPoints import f_FindSplitPoints\n",
    "from f_PlotInput import f_PlotInput\n",
    "from f_CoarseGraining_SD_Continuous import f_CoarseGraining_SD_Continuous"
   ]
  },
  {
   "cell_type": "code",
   "execution_count": 3,
   "metadata": {},
   "outputs": [
    {
     "name": "stdout",
     "output_type": "stream",
     "text": [
      "\u001b[H\u001b[2Joriginal obs: var: 69.171188618656, # extremes: 1990, diff(obs)=3408.547\n",
      "original sim: var: 52.86143165392219, # extremes: 500, diff(sim)=2680.4173\n",
      "smoothed obs: var: 69.171188618656, # extremes: 1990, diff(obs)=3408.547\n",
      "smoothed sim: var: 52.86143165392219, # extremes: 500, diff(sim)=2680.4173\n"
     ]
    },
    {
     "ename": "Exception",
     "evalue": "Stop here",
     "output_type": "error",
     "traceback": [
      "\u001b[0;31m---------------------------------------------------------------------------\u001b[0m",
      "\u001b[0;31mException\u001b[0m                                 Traceback (most recent call last)",
      "Cell \u001b[0;32mIn[3], line 61\u001b[0m\n\u001b[1;32m     57\u001b[0m \u001b[38;5;28;01melse\u001b[39;00m:\n\u001b[1;32m     58\u001b[0m     timeseries_splits \u001b[38;5;241m=\u001b[39m np\u001b[38;5;241m.\u001b[39mgenfromtxt(\u001b[38;5;124m'\u001b[39m\u001b[38;5;124mdata/HOST_ts_splits.csv\u001b[39m\u001b[38;5;124m'\u001b[39m, delimiter\u001b[38;5;241m=\u001b[39m\u001b[38;5;124m'\u001b[39m\u001b[38;5;124m;\u001b[39m\u001b[38;5;124m'\u001b[39m)  \u001b[38;5;66;03m# read splits defined by user.\u001b[39;00m\n\u001b[0;32m---> 61\u001b[0m \u001b[38;5;28;01mraise\u001b[39;00m \u001b[38;5;167;01mException\u001b[39;00m(\u001b[38;5;124m\"\u001b[39m\u001b[38;5;124mStop here\u001b[39m\u001b[38;5;124m\"\u001b[39m)\n\u001b[1;32m     63\u001b[0m \u001b[38;5;66;03m# plot input data\u001b[39;00m\n\u001b[1;32m     64\u001b[0m \u001b[38;5;28;01mif\u001b[39;00m pf_input:\n",
      "\u001b[0;31mException\u001b[0m: Stop here"
     ]
    }
   ],
   "source": [
    "# Start from scratch\n",
    "os.system('clear') # for linux and macOS\n",
    "# os.system('cls') # for windows\n",
    "# plt.close('all') # close all figures\n",
    "\n",
    "# specify paths and parameters, read inputs\n",
    "# os.chdir('ADD_YOUR_PATH_HERE')  # set working directory\n",
    "\n",
    "########################################################### mein Working Directory ###########################################################\n",
    "os.chdir(r\"/home/illich/SeriesDistance/\")\n",
    "########################################################### mein Working Directory ###########################################################\n",
    "\n",
    "# read input\n",
    "obs = np.genfromtxt('data/HOST_timeseries.csv', delimiter=';', skip_header=1, usecols=2, max_rows=10000)\n",
    "sim = np.genfromtxt('data/HOST_timeseries.csv', delimiter=';', skip_header=1, usecols=3, max_rows=10000)\n",
    "\n",
    "# output filenames\n",
    "outfile = './results/output.mat'\n",
    "\n",
    "# smoothing options\n",
    "smooth_flag = True         # smooth both obs and sim (default=True)\n",
    "nse_smooth_limit = 0.99    # specifies degree of smoothing according to NSE criterion (default=0.99)\n",
    "\n",
    "# specification of the magnitude error model\n",
    "error_model = 'relative'  # 'relative' or 'standard'; (default='relative')\n",
    "\n",
    "# options for time series splitting:\n",
    "timeseries_split_by_user = False  # 'true': time series splits provided by user in ascii file. 'false': splits will be placed by the program (default=False)\n",
    "split_frequency = 250             # only required if timeseries_split_by_user=False: this is the default distance between 2 splits (default=500)\n",
    "\n",
    "# parametrization of the objective function \n",
    "weight_nfc = 1/7   # weights number of re-assigned hydrological cases (default= 1)    \n",
    "weight_rds = 1/7   # weights the importance of the re-assigned segments (default=1) \n",
    "weight_sdt = 5/7   # weights the SD timing error component (default=5)\n",
    "weight_sdv = 0     # weights the SD magnitude error component (default=0)\n",
    "\n",
    "# set plot flags \n",
    "pf_input = True                   # plots input time series ('obs' and 'sim')\n",
    "pf_segs_cons_entireTS = True      # plots obs, sim, colour-coded pairs of matching segments, SeriesDistance connectors for the entire time series\n",
    "pf_errordist = True               # plots SeriesDistance error distributions \n",
    "\n",
    "# Data manipulations and pre-processing\n",
    "\n",
    "# smooth if required (default=True)\n",
    "if smooth_flag:\n",
    "    obs_org = obs.copy()\n",
    "    sim_org = sim.copy()\n",
    "    obs, sim = f_smooth_DP(obs, sim, nse_smooth_limit)\n",
    "\n",
    "# replace identical neighbouring values to avoid problems with assignment of unique peaks and valleys\n",
    "obs = f_ReplaceEqualNeighbours(obs)\n",
    "sim = f_ReplaceEqualNeighbours(sim)\n",
    "\n",
    "# Define time series split points to improve coarse-graining performance\n",
    "if not timeseries_split_by_user:\n",
    "    timeseries_splits = f_FindSplitPoints(obs, sim, split_frequency)  # find split points if they are not provided by the user       \n",
    "else:\n",
    "    timeseries_splits = np.genfromtxt('data/HOST_ts_splits.csv', delimiter=';')  # read splits defined by user.\n",
    "\n",
    "\n",
    "raise Exception(\"Stop here\")\n",
    "\n",
    "# plot input data\n",
    "if pf_input:\n",
    "    f_PlotInput([], obs, [], [], sim, [], [], timeseries_splits)  # show time series splits\n",
    "\n",
    "# cleanup\n",
    "del smooth_flag, nse_smooth_limit, pf_input, timeseries_split_by_user, split_frequency\n",
    "\n",
    "# Apply coarse-graining and the SD method to the entire time series \n",
    "# note: contrary to the event based method both, the coarse-graining and the SD calculation \n",
    "# take place in the same function here due to the splitting of the time series. To this end \n",
    "# the splitting is solved in a simplistic way and does not support separating the \n",
    "# coarse-graining and SD calculation as in the event-based version.\n",
    "\n",
    "# apply coarse graining and SD calculation: determines optimal level of segment aggregation for entire time series and applies SD to it\n",
    "segs_obs_opt_all, segs_sim_opt_all, connectors, e_sd_t_all, e_sd_q_all = f_CoarseGraining_SD_Continuous(\n",
    "    obs, sim, timeseries_splits, weight_nfc, weight_rds, weight_sdt, weight_sdv, error_model)\n",
    "\n",
    "# plot time series with optimized segments and connectors in an own figure\n",
    "if pf_segs_cons_entireTS:\n",
    "    f_PlotConnectedSeries(obs, segs_obs_opt_all, sim, segs_sim_opt_all, connectors)\n",
    "\n",
    "# plot 2d-error distributions\n",
    "if pf_errordist:\n",
    "    f_PlotSDErrors_OnePanel(e_sd_t_all, e_sd_q_all)\n",
    "\n",
    "# save output\n",
    "savemat(outfile, {\n",
    "    'obs': obs,\n",
    "    'sim': sim,\n",
    "    'segs_obs_opt_all': segs_obs_opt_all,\n",
    "    'segs_sim_opt_all': segs_sim_opt_all,\n",
    "    'connectors': connectors,\n",
    "    'e_sd_t_all': e_sd_t_all,\n",
    "    'e_sd_q_all': e_sd_q_all,\n",
    "    'weight_nfc': weight_nfc,\n",
    "    'weight_rds': weight_rds,\n",
    "    'weight_sdt': weight_sdt,\n",
    "    'weight_sdv': weight_sdv,\n",
    "    'error_model': error_model\n",
    "})"
   ]
  },
  {
   "cell_type": "code",
   "execution_count": null,
   "metadata": {},
   "outputs": [],
   "source": [
    "array = np.array([[1, 2, 3, 4, 5, 6, 8, 9]])"
   ]
  },
  {
   "cell_type": "code",
   "execution_count": null,
   "metadata": {},
   "outputs": [],
   "source": [
    "array.shape = (4, 2)"
   ]
  },
  {
   "cell_type": "code",
   "execution_count": null,
   "metadata": {},
   "outputs": [
    {
     "data": {
      "text/plain": [
       "array([[1, 2],\n",
       "       [3, 4],\n",
       "       [5, 6],\n",
       "       [8, 9]])"
      ]
     },
     "execution_count": 11,
     "metadata": {},
     "output_type": "execute_result"
    }
   ],
   "source": [
    "array"
   ]
  },
  {
   "cell_type": "code",
   "execution_count": null,
   "metadata": {},
   "outputs": [],
   "source": [
    "array = np.full((3, 3), np.nan)"
   ]
  },
  {
   "cell_type": "code",
   "execution_count": null,
   "metadata": {},
   "outputs": [
    {
     "data": {
      "text/plain": [
       "array([[nan, nan, nan],\n",
       "       [nan, nan, nan],\n",
       "       [nan, nan, nan]])"
      ]
     },
     "execution_count": 15,
     "metadata": {},
     "output_type": "execute_result"
    }
   ],
   "source": [
    "array"
   ]
  },
  {
   "cell_type": "code",
   "execution_count": null,
   "metadata": {},
   "outputs": [],
   "source": []
  }
 ],
 "metadata": {
  "kernelspec": {
   "display_name": "SeriesDistance",
   "language": "python",
   "name": "python3"
  },
  "language_info": {
   "codemirror_mode": {
    "name": "ipython",
    "version": 3
   },
   "file_extension": ".py",
   "mimetype": "text/x-python",
   "name": "python",
   "nbconvert_exporter": "python",
   "pygments_lexer": "ipython3",
   "version": "3.11.9"
  }
 },
 "nbformat": 4,
 "nbformat_minor": 2
}
